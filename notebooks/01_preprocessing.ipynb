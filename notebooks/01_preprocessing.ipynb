{
 "cells": [
  {
   "cell_type": "code",
   "execution_count": 11,
   "id": "2c8c9d79-cdbe-4739-bef7-520f700fd4a1",
   "metadata": {},
   "outputs": [],
   "source": [
    "# Constansts\n",
    "DATA_PATH = 'C:\\\\Users\\\\101\\\\End-to-End project\\\\iti_e2e_live\\\\data\\\\raw\\\\survey_results_public.csv'\n",
    "EXPORT_PATH = 'C:\\\\Users\\\\101\\\\End-to-End project\\\\iti_e2e_live\\\\data\\\\processed\\\\1_preprocessed_df.pkl'\n",
    "\n",
    "REPLACE_DICT = {\n",
    "    'YearsCodePro': {'Less than 1 year': 0, 'More than 50 years': 51}, \n",
    "    'YearsCode':    {'Less than 1 year': 0, 'More than 50 years': 51}, \n",
    "    'Age1stCode':   {'Older than 85':86,    'Younger than 5 years':4}}"
   ]
  },
  {
   "cell_type": "code",
   "execution_count": 12,
   "id": "ff369354-9800-4c69-b260-96a327d5906b",
   "metadata": {},
   "outputs": [],
   "source": [
    "#Load pakages\n",
    "import pandas as pd\n",
    "import numpy as np\n",
    "import pickle"
   ]
  },
  {
   "cell_type": "markdown",
   "id": "3f438c9d-4c3e-430c-b830-0cd0233fd948",
   "metadata": {},
   "source": [
    "Functions"
   ]
  },
  {
   "cell_type": "code",
   "execution_count": 13,
   "id": "6f8a37ab-874d-4452-bdc8-cace41348268",
   "metadata": {},
   "outputs": [],
   "source": [
    "def split_answers(data_series, delimiter=\";\"):\n",
    "    \"\"\" \n",
    "    Split multiple answers in a single string \n",
    "    to a list of single strings each represnting a single answers \n",
    "\n",
    "    Parameters:\n",
    "    * data_series (pd.Series): String series with answers \n",
    "    * delimiter (string): Another decimal integer \n",
    "                          Defaults to \";\"\n",
    "\n",
    "    Returns: (pd.Series): If column contains \n",
    "    \"\"\"\n",
    "    \n",
    "    # Sub functions \n",
    "    def is_splittable(pd_series, delimiter):\n",
    "        \"\"\" Check if results multiple should be splitted - Returns boolean \"\"\"    \n",
    "        return pd_series.str.contains(delimiter)\n",
    "    \n",
    "    def split_answer(pd_series, delimiter): \n",
    "        \"\"\"Function to split single answer\"\"\"\n",
    "        return pd_series.str.split(delimiter)\n",
    "    \n",
    "    # --------------------\n",
    "    \n",
    "    # Check if multiple answers exist - if none: return original \n",
    "    splittable_values = is_splittable(data_series, delimiter)\n",
    "    if not splittable_values.any():\n",
    "        return data_series\n",
    "    \n",
    "    # Else, split each value to a list \n",
    "    modified_series = split_answer(data_series, delimiter)    \n",
    "    \n",
    "    # Replace NAs with empty lists \n",
    "    mask_null = modified_series.isnull()\n",
    "    modified_series.loc[mask_null] = modified_series.loc[mask_null].apply(lambda x: [])\n",
    "    \n",
    "    return modified_series"
   ]
  },
  {
   "cell_type": "markdown",
   "id": "303277e3-c86f-4427-a96b-5d02cc89b59b",
   "metadata": {},
   "source": [
    "Processing"
   ]
  },
  {
   "cell_type": "code",
   "execution_count": 17,
   "id": "b695ec42-02c0-4016-9957-67c5ca683606",
   "metadata": {},
   "outputs": [],
   "source": [
    "df = pd.read_csv(DATA_PATH)\n"
   ]
  },
  {
   "cell_type": "markdown",
   "id": "25ada328-d181-4440-9457-1757289927dc",
   "metadata": {},
   "source": [
    "1. Replace Values and parse"
   ]
  },
  {
   "cell_type": "code",
   "execution_count": 18,
   "id": "f5c35ce9-46be-4d3c-9095-048b6b3289e3",
   "metadata": {},
   "outputs": [],
   "source": [
    "for col, replacement in REPLACE_DICT.items():\n",
    "    df[col] = df[col].replace(replacement).astype(np.float32)"
   ]
  },
  {
   "cell_type": "markdown",
   "id": "ba8bbbc0-e6b8-491e-8934-f4c095f93ab4",
   "metadata": {},
   "source": [
    "2. Split multiple answers\n"
   ]
  },
  {
   "cell_type": "code",
   "execution_count": 19,
   "id": "4629dcc7-e446-4fe7-843f-198dd094a709",
   "metadata": {},
   "outputs": [],
   "source": [
    "object_cols = df.select_dtypes(include='object').columns.tolist()\n",
    "for col in object_cols:\n",
    "    df[col] = split_answers(df[col])"
   ]
  },
  {
   "cell_type": "markdown",
   "id": "64e09461-10e2-4e57-8e51-204b0ca16825",
   "metadata": {},
   "source": [
    "Export Data"
   ]
  },
  {
   "cell_type": "code",
   "execution_count": 20,
   "id": "a27b2ed8-5627-4422-9777-e9c3170f602e",
   "metadata": {},
   "outputs": [],
   "source": [
    "df.to_pickle(EXPORT_PATH)"
   ]
  },
  {
   "cell_type": "code",
   "execution_count": null,
   "id": "3dd0e4f8-a0fc-4ac1-889d-50dfe211f14c",
   "metadata": {},
   "outputs": [],
   "source": []
  }
 ],
 "metadata": {
  "kernelspec": {
   "display_name": "Python 3 (ipykernel)",
   "language": "python",
   "name": "python3"
  },
  "language_info": {
   "codemirror_mode": {
    "name": "ipython",
    "version": 3
   },
   "file_extension": ".py",
   "mimetype": "text/x-python",
   "name": "python",
   "nbconvert_exporter": "python",
   "pygments_lexer": "ipython3",
   "version": "3.9.7"
  }
 },
 "nbformat": 4,
 "nbformat_minor": 5
}
